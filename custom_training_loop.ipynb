{
  "nbformat": 4,
  "nbformat_minor": 0,
  "metadata": {
    "colab": {
      "provenance": [],
      "authorship_tag": "ABX9TyMPs7RbBhwZhr03YEt5me0R",
      "include_colab_link": true
    },
    "kernelspec": {
      "name": "python3",
      "display_name": "Python 3"
    },
    "language_info": {
      "name": "python"
    }
  },
  "cells": [
    {
      "cell_type": "markdown",
      "metadata": {
        "id": "view-in-github",
        "colab_type": "text"
      },
      "source": [
        "<a href=\"https://colab.research.google.com/github/ShimilSBabu/Custom-Training-Loops/blob/main/custom_training_loop.ipynb\" target=\"_parent\"><img src=\"https://colab.research.google.com/assets/colab-badge.svg\" alt=\"Open In Colab\"/></a>"
      ]
    },
    {
      "cell_type": "code",
      "source": [
        "from __future__ import absolute_import, division, print_function, unicode_literals"
      ],
      "metadata": {
        "id": "dpyHthB69UJQ"
      },
      "execution_count": 11,
      "outputs": []
    },
    {
      "cell_type": "code",
      "execution_count": 13,
      "metadata": {
        "id": "8uO1Bp0wvoFl"
      },
      "outputs": [],
      "source": [
        "import tensorflow as tf\n",
        "import numpy as np\n",
        "import matplotlib.pyplot as plt"
      ]
    },
    {
      "cell_type": "code",
      "source": [
        "class Model(object):\n",
        "  def __init__(self):\n",
        "    self.weight = tf.Variable(2.0)\n",
        "    self.bias = tf.Variable(1.0)\n",
        "\n",
        "  def __call__(self, x):\n",
        "    return self.weight * x + self.bias"
      ],
      "metadata": {
        "id": "8-Pr9f6CxHwx"
      },
      "execution_count": 29,
      "outputs": []
    },
    {
      "cell_type": "code",
      "source": [
        "model = Model()"
      ],
      "metadata": {
        "id": "HDhM9LzQxynq"
      },
      "execution_count": 30,
      "outputs": []
    },
    {
      "cell_type": "code",
      "source": [
        "def loss(predicted_y, target_y):\n",
        "  return tf.reduce_mean(tf.square(predicted_y - target_y))"
      ],
      "metadata": {
        "id": "E6kr3gLnxylh"
      },
      "execution_count": 31,
      "outputs": []
    },
    {
      "cell_type": "code",
      "source": [
        "TRUE_w = 3.0\n",
        "TRUE_b = 2.0\n",
        "EXAMPLE_COUNT = 1000\n",
        "xs = tf.random.normal(shape = [EXAMPLE_COUNT])\n",
        "ys = TRUE_w * xs + TRUE_b"
      ],
      "metadata": {
        "id": "yyeRmxbzxyjQ"
      },
      "execution_count": 32,
      "outputs": []
    },
    {
      "cell_type": "code",
      "source": [
        "def plot_data(inputs, outputs, predicted_outputs):\n",
        "    real = plt.scatter(inputs, outputs, c = 'b')\n",
        "    predicted = plt.scatter(inputs, predicted_outputs, c = 'r')\n",
        "    plt.legend((real, predicted), ('Real Data', 'Predicted Data'))\n",
        "    plt.show()"
      ],
      "metadata": {
        "id": "jX0XT_nnxygx"
      },
      "execution_count": 33,
      "outputs": []
    },
    {
      "cell_type": "code",
      "source": [
        "plot_data(xs, ys, model(xs))\n",
        "current_loss = loss(model(xs), ys).numpy()\n",
        "print(f'Current Loss is : {current_loss}')"
      ],
      "metadata": {
        "colab": {
          "base_uri": "https://localhost:8080/",
          "height": 283
        },
        "id": "q_XTUme3xyKQ",
        "outputId": "b337ef78-4a0c-4921-b868-4190d6885727"
      },
      "execution_count": 34,
      "outputs": [
        {
          "output_type": "display_data",
          "data": {
            "text/plain": [
              "<Figure size 432x288 with 1 Axes>"
            ],
            "image/png": "[encoded data removed]"
          },
          "metadata": {
            "needs_background": "light"
          }
        },
        {
          "output_type": "stream",
          "name": "stdout",
          "text": [
            "Current Loss is : 2.0591182708740234\n"
          ]
        }
      ]
    },
    {
      "cell_type": "code",
      "source": [
        "def train(model, inputs, outputs, learning_rate):\n",
        "    with tf.GradientTape() as t:\n",
        "      current_loss = loss(model(inputs), outputs)\n",
        "    dw, db = t.gradient(current_loss, [model.weight, model.bias])\n",
        "    model.weight.assign_sub(learning_rate * dw)\n",
        "    model.bias.assign_sub(learning_rate * db)\n",
        "\n",
        "    return current_loss"
      ],
      "metadata": {
        "id": "58h4yP1-1UTw"
      },
      "execution_count": 35,
      "outputs": []
    },
    {
      "cell_type": "code",
      "source": [
        "model = Model()\n",
        "\n",
        "list_weight, list_bias = [], []\n",
        "epochs = range(20)\n",
        "losses = []\n",
        "\n",
        "for epoch in epochs:\n",
        "  list_weight.append(model.weight.numpy())\n",
        "  list_bias.append(model.bias.numpy())\n",
        "  current_loss = train(model, xs, ys, learning_rate = 0.1)\n",
        "  losses.append(current_loss)\n",
        "  print(f'Epoch : {epoch} Weight : {list_weight[-1]} Bias : {list_bias[-1]} Current Loss : {current_loss}')"
      ],
      "metadata": {
        "colab": {
          "base_uri": "https://localhost:8080/"
        },
        "id": "s8y32ana1UOf",
        "outputId": "e19215a4-83b7-4cc8-8cd7-ec7ff560e7b7"
      },
      "execution_count": 44,
      "outputs": [
        {
          "output_type": "stream",
          "name": "stdout",
          "text": [
            "Epoch : 0 Weight : 2.0 Bias : 1.0 Current Loss : 2.0591182708740234\n",
            "Epoch : 1 Weight : 2.2106122970581055 Bias : 1.2012113332748413 Current Loss : 1.2981245517730713\n",
            "Epoch : 2 Weight : 2.376878499984741 Bias : 1.3619252443313599 Current Loss : 0.8184870481491089\n",
            "Epoch : 3 Weight : 2.50813364982605 Bias : 1.4902950525283813 Current Loss : 0.5161405205726624\n",
            "Epoch : 4 Weight : 2.611748456954956 Bias : 1.5928318500518799 Current Loss : 0.32552552223205566\n",
            "Epoch : 5 Weight : 2.693542003631592 Bias : 1.6747357845306396 Current Loss : 0.20533528923988342\n",
            "Epoch : 6 Weight : 2.758108615875244 Bias : 1.7401598691940308 Current Loss : 0.12954001128673553\n",
            "Epoch : 7 Weight : 2.8090755939483643 Bias : 1.7924208641052246 Current Loss : 0.08173472434282303\n",
            "Epoch : 8 Weight : 2.84930682182312 Bias : 1.8341679573059082 Current Loss : 0.051578812301158905\n",
            "Epoch : 9 Weight : 2.8810629844665527 Bias : 1.8675168752670288 Current Loss : 0.03255359083414078\n",
            "Epoch : 10 Weight : 2.9061288833618164 Bias : 1.8941575288772583 Current Loss : 0.02054896205663681\n",
            "Epoch : 11 Weight : 2.9259138107299805 Bias : 1.9154397249221802 Current Loss : 0.012973086908459663\n",
            "Epoch : 12 Weight : 2.9415299892425537 Bias : 1.9324414730072021 Current Loss : 0.008191442117094994\n",
            "Epoch : 13 Weight : 2.953855514526367 Bias : 1.9460240602493286 Current Loss : 0.005172974430024624\n",
            "Epoch : 14 Weight : 2.9635837078094482 Bias : 1.956875205039978 Current Loss : 0.0032672530505806208\n",
            "Epoch : 15 Weight : 2.971261501312256 Bias : 1.9655442237854004 Current Loss : 0.002063918858766556\n",
            "Epoch : 16 Weight : 2.977321147918701 Bias : 1.9724701642990112 Current Loss : 0.001303961267694831\n",
            "Epoch : 17 Weight : 2.9821035861968994 Bias : 1.9780036211013794 Current Loss : 0.0008239459712058306\n",
            "Epoch : 18 Weight : 2.985877752304077 Bias : 1.9824246168136597 Current Loss : 0.0005207129870541394\n",
            "Epoch : 19 Weight : 2.988856315612793 Bias : 1.9859567880630493 Current Loss : 0.0003291264292784035\n"
          ]
        }
      ]
    },
    {
      "cell_type": "code",
      "source": [
        "plt.plot(epochs, list_weight, 'r', \n",
        "         epochs, list_bias, 'b', )\n",
        "plt.plot(TRUE_w * len(epochs), 'r--', \n",
        "         TRUE_b * len(epochs), 'b--', )\n",
        "plt.legend(['Predicted Weight', 'Predicted Bias', 'True Weight', 'True Bias'])\n",
        "plt.show()"
      ],
      "metadata": {
        "id": "bjVi2qYL1UIS"
      },
      "execution_count": null,
      "outputs": []
    }
  ]
}